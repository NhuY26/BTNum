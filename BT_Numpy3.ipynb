{
  "nbformat": 4,
  "nbformat_minor": 0,
  "metadata": {
    "colab": {
      "name": "BT Numpy3.ipynb",
      "provenance": [],
      "authorship_tag": "ABX9TyPZgdGJD9a4hx5xXPQ38q3W",
      "include_colab_link": true
    },
    "kernelspec": {
      "name": "python3",
      "display_name": "Python 3"
    },
    "language_info": {
      "name": "python"
    }
  },
  "cells": [
    {
      "cell_type": "markdown",
      "metadata": {
        "id": "view-in-github",
        "colab_type": "text"
      },
      "source": [
        "<a href=\"https://colab.research.google.com/github/NhuY26/BTNum/blob/main/BT_Numpy3.ipynb\" target=\"_parent\"><img src=\"https://colab.research.google.com/assets/colab-badge.svg\" alt=\"Open In Colab\"/></a>"
      ]
    },
    {
      "cell_type": "code",
      "execution_count": 1,
      "metadata": {
        "id": "zHJADlwS2c07"
      },
      "outputs": [],
      "source": [
        "import numpy as np"
      ]
    },
    {
      "cell_type": "markdown",
      "source": [
        "Câu 1: Hãy trình bày cú pháp của hàm apply_along_axis() và ý nghĩa của từng tham số của hàm\n",
        "này.\n",
        "\\begin{align}\n",
        "\\end{align} \n",
        "numpy.apply_along_axis(func1d, axis, arr, *args, **kwargs)\n",
        "\n",
        "- numpy.apply_along_axisLà hàm cho phép ta sử dụng hàm theo từng chiều.\n",
        "- func1d : Hàm thực hiện\n",
        "- axis : chọn chiều cần thực hiện\n",
        "- arr : mảng cần xử lí\n",
        "- *args và **kwargs đều chủ yếu được sử dụng trong định nghĩa. Hai cú pháp đặc biệt này giúp chúng ta có thể truyền bao nhiêu tham số vào hàm cũng được.\n",
        "Hai hàm này thông thường ta thường bỏ qua vì trong điều kiện bình thường không cần sử dụng."
      ],
      "metadata": {
        "id": "_wE3X5sx7Oby"
      }
    },
    {
      "cell_type": "code",
      "source": [
        "a = np.random.randint(1,100,[15,17])\n",
        "a"
      ],
      "metadata": {
        "colab": {
          "base_uri": "https://localhost:8080/"
        },
        "id": "Qjaw92DP2jTA",
        "outputId": "fee3738e-eb6c-46f2-8a9d-2e34bb7be1f5"
      },
      "execution_count": 2,
      "outputs": [
        {
          "output_type": "execute_result",
          "data": {
            "text/plain": [
              "array([[53, 79, 52, 88, 31, 11, 83, 25, 17, 91, 79, 12, 39, 87,  9, 94,\n",
              "        11],\n",
              "       [19,  6, 75, 80, 48,  1,  9, 89, 12, 59, 57, 83, 71, 21, 76, 79,\n",
              "        37],\n",
              "       [78, 15,  9, 44, 45, 91, 37, 18, 74, 93, 53, 40, 27, 73, 50, 89,\n",
              "        16],\n",
              "       [58, 90,  4, 52, 33, 69, 33, 25, 45, 25, 63, 49, 36, 30, 71, 76,\n",
              "        56],\n",
              "       [53, 63, 48, 30, 55, 73, 99, 26, 19,  8,  3, 92, 76, 71, 41, 75,\n",
              "        41],\n",
              "       [47, 46,  4, 34, 71, 26, 23, 79, 80, 66, 44, 65, 14, 64, 83, 82,\n",
              "        66],\n",
              "       [99, 69, 71, 22, 56, 26, 46, 24, 16,  8, 57, 97,  5, 28, 44, 34,\n",
              "        95],\n",
              "       [41, 61, 99, 97, 66, 23, 94, 93, 42, 93, 17, 68, 60, 12, 42, 39,\n",
              "         5],\n",
              "       [26, 51, 45, 99, 13, 21, 18, 90, 95, 38, 68, 24, 76, 86, 71, 12,\n",
              "        78],\n",
              "       [71, 97, 84, 72, 83, 87, 14, 58, 79, 16,  6, 36, 61, 41,  2, 45,\n",
              "        75],\n",
              "       [32, 84, 74, 39,  4, 12, 80, 55, 95, 50, 44, 26, 53, 73, 28,  1,\n",
              "        31],\n",
              "       [33, 54, 11, 83, 67, 11, 28, 88,  5, 89, 90, 71, 24, 43,  8, 88,\n",
              "        67],\n",
              "       [32, 73, 89, 50, 83,  3, 18, 80, 13, 80, 75, 77, 41, 87, 11, 47,\n",
              "        50],\n",
              "       [44, 37, 17, 38, 30, 74, 49, 45, 10, 99, 94, 98, 39, 58, 24, 21,\n",
              "        36],\n",
              "       [37, 26, 79, 31, 81, 83, 25, 50, 87, 64, 13, 60, 84, 75, 65, 93,\n",
              "        20]])"
            ]
          },
          "metadata": {},
          "execution_count": 2
        }
      ]
    },
    {
      "cell_type": "markdown",
      "source": [
        "Câu 3: Xây dựng hàm tìm giá trị lớn nhất có tên là tim_gia_tri_lon_nhat(vector_a) có tham số\n",
        "đầu vào là 1 vector a và giá trị trả về là giá trị phần tử lớn nhất của vector này. Áp dụng hàm này\n",
        "theo từng hàng của ma trận A ở Câu 1 và xuất kết quả ra màn hình."
      ],
      "metadata": {
        "id": "RLoaU4s78TVu"
      }
    },
    {
      "cell_type": "code",
      "source": [
        "def tim_gia_tri_lon_nhat(a):\n",
        "    return np.max(a)\n",
        "\n",
        "def main():\n",
        "    print(\"\\nMax : \\n\", np.apply_along_axis(tim_gia_tri_lon_nhat, 1, a));\n",
        "\n",
        "if __name__ == '__main__':\n",
        "    main();"
      ],
      "metadata": {
        "colab": {
          "base_uri": "https://localhost:8080/"
        },
        "id": "O4O7iyYi3GjA",
        "outputId": "f4afdee2-937a-4eb6-87b7-de3f77e74c61"
      },
      "execution_count": 3,
      "outputs": [
        {
          "output_type": "stream",
          "name": "stdout",
          "text": [
            "\n",
            "Max : \n",
            " [94 89 93 90 99 83 99 99 99 97 95 90 89 99 93]\n"
          ]
        }
      ]
    },
    {
      "cell_type": "markdown",
      "source": [
        "Câu 4: Xây dựng hàm tìm giá trị nhỏ nhất có tên là tim_gia_tri_nho_nhat(vector_a) có tham số\n",
        "đầu vào là 1 vector a và giá trị trả về là giá trị phần tử nhỏ nhất của vector này. Áp dụng hàm này\n",
        "theo từng cột của ma trận A ở Câu 1 và xuất kết quả ra màn hình."
      ],
      "metadata": {
        "id": "oJ-AbDx1AEDh"
      }
    },
    {
      "cell_type": "code",
      "source": [
        "def tim_gia_tri_nho_nhat(a):\n",
        "  return np.min(a)\n",
        "\n",
        "def main():\n",
        "    print(\"\\nMin : \\n\", np.apply_along_axis(tim_gia_tri_nho_nhat,0,a));\n",
        "\n",
        "if __name__ == '__main__':\n",
        "    main();"
      ],
      "metadata": {
        "colab": {
          "base_uri": "https://localhost:8080/"
        },
        "id": "7U8GM6Wz3KhM",
        "outputId": "75ffdfc4-a883-45a0-8497-641fff1544c8"
      },
      "execution_count": 4,
      "outputs": [
        {
          "output_type": "stream",
          "name": "stdout",
          "text": [
            "\n",
            "Min : \n",
            " [19  6  4 22  4  1  9 18  5  8  3 12  5 12  2  1  5]\n"
          ]
        }
      ]
    },
    {
      "cell_type": "markdown",
      "source": [
        "Câu 5: Xây dựng hàm tìm giá trị lớn nhất có tên là tinh_tong(vector_a) có tham số đầu vào là 1\n",
        "vector a và giá trị trả về là tổng các phần tử của vector này. Áp dụng hàm này theo từng hàng của\n",
        "ma trận A ở Câu 1 và xuất kết quả ra màn hình."
      ],
      "metadata": {
        "id": "6XoUpjz9AY9d"
      }
    },
    {
      "cell_type": "code",
      "source": [
        "def tinh_tong(a):\n",
        "    return np.sum(a)\n",
        "\n",
        "def main():\n",
        "    print(\"Sum: \\n\",np.apply_along_axis(tinh_tong,1,a))\n",
        "\n",
        "if __name__ == '__main__':\n",
        "    main();\n"
      ],
      "metadata": {
        "colab": {
          "base_uri": "https://localhost:8080/"
        },
        "id": "lVKRh7VUA8Po",
        "outputId": "4c56cf06-86fb-453d-f690-58160d98c203"
      },
      "execution_count": 5,
      "outputs": [
        {
          "output_type": "stream",
          "name": "stdout",
          "text": [
            "Sum: \n",
            " [861 822 852 815 873 894 797 952 911 927 781 860 909 813 973]\n"
          ]
        }
      ]
    },
    {
      "cell_type": "markdown",
      "source": [
        "Câu 6: Xây dựng hàm tìm giá trị lớn nhất có tên là tinh_tong_2(vector_a) có tham số đầu vào là\n",
        "1 vector a và giá trị trả về là tổng các phần tử có chỉ số lẻ (1 – 3 – 5 , .v.v.) của vector này. Áp\n",
        "dụng hàm này theo từng cột của ma trận A ở Câu 1 và xuất kết quả ra màn hình. Tiếp tục áp dụng\n",
        "hàm này theo từng hàng của ma trận A kể trên và xuất kết quả ra màn hình."
      ],
      "metadata": {
        "id": "nzj5w0KQBElN"
      }
    },
    {
      "cell_type": "code",
      "source": [
        "def tinh_tong_2(vector_a):\n",
        "    sum  = 0\n",
        "    for i in range(len(vector_a)):\n",
        "      if (i % 2 != 0):\n",
        "        sum  = sum +vector_a[i]\n",
        "    return sum\n",
        "\n",
        "def main():\n",
        "    print(\"Sum: \\n\",np.apply_along_axis(tinh_tong_2, 1, a))\n",
        "\n",
        "if __name__ == '__main__':\n",
        "    main();"
      ],
      "metadata": {
        "colab": {
          "base_uri": "https://localhost:8080/"
        },
        "id": "nLWb4aY-BJVt",
        "outputId": "a4345ddb-c34c-4466-8073-0a6bedbc4c12"
      },
      "execution_count": 6,
      "outputs": [
        {
          "output_type": "stream",
          "name": "stdout",
          "text": [
            "Sum: \n",
            " [487 418 463 416 438 462 308 486 421 452 340 527 497 470 482]\n"
          ]
        }
      ]
    }
  ]
}