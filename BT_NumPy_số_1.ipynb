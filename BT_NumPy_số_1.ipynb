{
  "nbformat": 4,
  "nbformat_minor": 0,
  "metadata": {
    "colab": {
      "name": "BT NumPy số 1.ipynb",
      "provenance": [],
      "authorship_tag": "ABX9TyP70/xxXlq7zlfml7irnodU",
      "include_colab_link": true
    },
    "kernelspec": {
      "name": "python3",
      "display_name": "Python 3"
    },
    "language_info": {
      "name": "python"
    }
  },
  "cells": [
    {
      "cell_type": "markdown",
      "metadata": {
        "id": "view-in-github",
        "colab_type": "text"
      },
      "source": [
        "<a href=\"https://colab.research.google.com/github/NhuY26/BTNum/blob/main/BT_NumPy_s%E1%BB%91_1.ipynb\" target=\"_parent\"><img src=\"https://colab.research.google.com/assets/colab-badge.svg\" alt=\"Open In Colab\"/></a>"
      ]
    },
    {
      "cell_type": "code",
      "execution_count": null,
      "metadata": {
        "id": "stjHPXPalwd1"
      },
      "outputs": [],
      "source": [
        "import numpy as np\n",
        "import math\n",
        "import random"
      ]
    },
    {
      "cell_type": "markdown",
      "source": [
        ""
      ],
      "metadata": {
        "id": "JNQfs5Tzr-jj"
      }
    },
    {
      "cell_type": "markdown",
      "source": [
        "bài 1: Xét không gian $R^3$ một điểm A trong không gian này có tọa độ là (5, 7, 14). Hãy khởi tạo giá trị của điểm A nêu trên bằng Numpy.\n",
        "\n",
        "sử dụng các thư viện sau:\n",
        "\n",
        "\n",
        "*   numpy để tính toán số học, vector, ma trận \n",
        "\n",
        "\n",
        "*   math để tính toán các hàm toán học \n",
        "*   random để thực hiện sinh số ngẫu nhiên\n",
        "\n",
        "\n",
        "\n",
        "\n",
        "\n"
      ],
      "metadata": {
        "id": "K5uDdaadnxMa"
      }
    },
    {
      "cell_type": "code",
      "source": [
        "a = np.array([5,7,14])\n",
        "print(\"a: \\n\", a)\n",
        "print(\"số chiều không gian của điểm a: \", a.ndim)"
      ],
      "metadata": {
        "id": "Byp4LjTKsFd2",
        "outputId": "84fc8552-23be-49b0-b379-66c084ff838d",
        "colab": {
          "base_uri": "https://localhost:8080/"
        }
      },
      "execution_count": null,
      "outputs": [
        {
          "output_type": "stream",
          "name": "stdout",
          "text": [
            "a: \n",
            " [ 5  7 14]\n",
            "số chiều không gian của điểm a:  1\n"
          ]
        }
      ]
    },
    {
      "cell_type": "markdown",
      "source": [
        "bài 2: Mở rộng không gian lên  R15 , điểm A trong không gian này có tọa độ là (1, 2, 3, 4, 5, 6, 7, 8, 9, 10, 11, 12, 13, 14, 15). Hãy khởi tạo điểm A trong không gian 15 chiều này bằng Numpy."
      ],
      "metadata": {
        "id": "TtG2QRlUsx4I"
      }
    },
    {
      "cell_type": "code",
      "source": [
        "a = np.array(np.arange(16))\n",
        "print(\"a: \\n\", a)\n"
      ],
      "metadata": {
        "colab": {
          "base_uri": "https://localhost:8080/"
        },
        "id": "os2i6Xzes6y8",
        "outputId": "7d0c7816-48fa-4fb0-f90e-fa596249418f"
      },
      "execution_count": null,
      "outputs": [
        {
          "output_type": "stream",
          "name": "stdout",
          "text": [
            "a: \n",
            " [ 0  1  2  3  4  5  6  7  8  9 10 11 12 13 14 15]\n"
          ]
        }
      ]
    },
    {
      "cell_type": "markdown",
      "source": [
        "Bài 3: trong không gian $R^n$, xét vector $\\vec{OA}$ với O là điểm gốc tọa độ và A là điểm có tọa độ tổng\n",
        "quát là($a_1, a_2,...,a_n)$. vector $\\vec{OA}$ lúc này được viết dưới dạng vector cột (column vector) là: \n",
        "\\begin{align}\n",
        "        \\vec{OA} = \\begin{pmatrix}\n",
        "        a_1 \\\\\n",
        "        a_2 \\\\\n",
        "        ⋮ \\\\\n",
        "        a_n\n",
        "        \\end{pmatrix}\n",
        "    \\end{align}\n",
        "Hay ở dạng vector hàng (row vector) là:\n",
        "\\begin{align}\n",
        "        {\\vec{OA} = \\begin{pmatrix}\n",
        "        {a_1 \\\\\n",
        "        a_2 \\\\\n",
        "        ⋮ \\\\\n",
        "        a_n}\n",
        "        \\end{pmatrix}}^T = [a_1 \\ a_2\\ ... \\ a_n]\n",
        "    \\end{align} \n",
        "Hãy viết chương trình sinh ngẫu nhiên một vector trong không gian $R^n$ với n là số nguyên dương\n",
        "được nhập vào từ bàn phím. Yêu cầu: sử dụng Numpy."
      ],
      "metadata": {
        "id": "53dnwa2o3Qa2"
      }
    },
    {
      "cell_type": "code",
      "source": [
        "n = int(input(\"nhap n: \"))\n",
        "\n",
        "# sinh số ngẫu nhiên đối với số nguyên \n",
        "\n",
        "a = np.random.randint(low=-10, high=10, size=(1,n))\n",
        "print(\"a: \\n\",a)"
      ],
      "metadata": {
        "colab": {
          "base_uri": "https://localhost:8080/"
        },
        "id": "RRFTxO7htJxT",
        "outputId": "e9778c93-fa39-4dae-a081-9a9dd72e8875"
      },
      "execution_count": null,
      "outputs": [
        {
          "output_type": "stream",
          "name": "stdout",
          "text": [
            "nhap n: 4\n",
            "a: \n",
            " [[-9  0  3  0]]\n"
          ]
        }
      ]
    },
    {
      "cell_type": "markdown",
      "source": [
        "Bài 4: trong không gian $R^3$, xét vector $\\vec{OA}$\n",
        "\n",
        "> Văn bản được thụt lề\n",
        "\n",
        "\n",
        "\\begin{align}\n",
        "        \\vec{OA} = \\begin{pmatrix}\n",
        "        7 \\\\\n",
        "        -5 \\\\\n",
        "        8 \n",
        "        \\end{pmatrix}\n",
        "    \\end{align}\n",
        "Hãy viết chương trình tính chiều dài của vector $\\vec{OA}$ , biết công thức tổng quát để tính chiều dài\n",
        "vector $\\vec{OA}$ trong không gian $R^n$\n",
        "là:\n",
        "\\begin{align}\n",
        "||\\vec{OA}|| = \\sqrt{a^2_1 + a^2_2 + ... + a^2_n}\n",
        "\\end{align}\n",
        "lưu ý: sử dụng numpy"
      ],
      "metadata": {
        "id": "6Q6xPLfQ3PJW"
      }
    },
    {
      "cell_type": "code",
      "source": [
        "OA = np.array([7,-5,8])\n",
        "print(OA)\n",
        "chieu_dai_vector_OA = np.sqrt((OA[0])**2 + (OA[1])**2 + (OA[2])**2)\n",
        "print(\"Chiều dài vector OA là: \", chieu_dai_vector_OA)"
      ],
      "metadata": {
        "colab": {
          "base_uri": "https://localhost:8080/"
        },
        "id": "6Zsn3wzitdw3",
        "outputId": "b07ce42e-b0bb-401b-a679-814472de2117"
      },
      "execution_count": null,
      "outputs": [
        {
          "output_type": "stream",
          "name": "stdout",
          "text": [
            "[ 7 -5  8]\n",
            "Chiều dài vector OA là:  11.74734012447073\n"
          ]
        }
      ]
    },
    {
      "cell_type": "markdown",
      "source": [
        "bài 5:Trong không gian $R^n$, hãy sinh ngẫu nhiên 2 điểm A và B. Xác định vector $\\vec{AB}$ và tính\n",
        "\n",
        "chiều dài của vector $||\\vec{OA}||$ này . \n",
        "\n",
        "Lưu ý: sử dụng Numpy."
      ],
      "metadata": {
        "id": "HtPwMsGr0jUo"
      }
    },
    {
      "cell_type": "code",
      "source": [
        "n = int(input(\"Nhập n: \"))\n",
        "A = np.random.randint(low=-10, high=10, size=(1,n))\n",
        "print(A)\n",
        "B = np.random.randint(low=-10, high=10, size=(1,n))\n",
        "print(B)\n",
        "\n",
        "vector_AB = B-A\n",
        "print(\"Vector AB là: \", vector_AB)\n",
        "\n",
        "chieu_dai_vector_AB = np.sqrt((vector_AB[0][0])**2 + (vector_AB[0][1])**2 + (vector_AB[0][2])**2)\n",
        "print(\"Chiều dài vector AB là: \", chieu_dai_vector_AB)"
      ],
      "metadata": {
        "colab": {
          "base_uri": "https://localhost:8080/"
        },
        "id": "OU6tFm--ttC-",
        "outputId": "db04ac90-b11e-4382-c691-9ed12a92b984"
      },
      "execution_count": null,
      "outputs": [
        {
          "output_type": "stream",
          "name": "stdout",
          "text": [
            "Nhập n: 5\n",
            "[[ 3 -5  0 -8 -9]]\n",
            "[[-9  0  3 -2 -9]]\n",
            "Vector AB là:  [[-12   5   3   6   0]]\n",
            "Chiều dài vector AB là:  13.341664064126334\n"
          ]
        }
      ]
    },
    {
      "cell_type": "markdown",
      "source": [
        "bài 6:Tích vô hướng của 2 vector $\\vec{a}$ & $\\vec{b}$ (dot product hoặc inner product hoặc scalar product) được\n",
        "tính theo công thức tổng quát là:\n",
        "\n",
        "$\\vec{a}$ . $\\vec{b}$ = ${a_1b_1 + a_2b_2 +...+ a_3b_3}$\n",
        "\n",
        "Trong không gian $R^n$ , hãy sinh ngẫu nhiên 2 vector $\\vec{a}$ & $\\vec{b}$ và tính tích vô hướng của 2 vector này.\n",
        "\n",
        "Lưu ý: sử dụng numpy để tính tích vô hướng và số nguyên dương n được nhập vào từ bàn phím.\n",
        "\n",
        "Gợi ý: sử dụng hàm numpy.inner()"
      ],
      "metadata": {
        "id": "Zj9Zbj9N0nIj"
      }
    },
    {
      "cell_type": "code",
      "source": [
        "n = int(input(\"Nhập n: \"))\n",
        "\n",
        "a = np.random.randint(low=-10, high=10, size=(1,n))\n",
        "print(\"vector a là: \", a)\n",
        "\n",
        "b = np.random.randint(low=-10, high=10, size=(1,n))\n",
        "print(\"vector b là: \", b)\n",
        "\n",
        "tich_vo_huong = np.inner(a, b)\n",
        "print(\"tích vô hướng của 2 vector a và b là: \", tich_vo_huong)"
      ],
      "metadata": {
        "colab": {
          "base_uri": "https://localhost:8080/"
        },
        "id": "uXA1cRnMt1tk",
        "outputId": "78c2f64b-50c8-48e9-d76c-b96f51df1f60"
      },
      "execution_count": 14,
      "outputs": [
        {
          "output_type": "stream",
          "name": "stdout",
          "text": [
            "Nhập n: 3\n",
            "vector a là:  [[ -4 -10   4]]\n",
            "vector b là:  [[ 0  4 -6]]\n",
            "tích vô hướng của 2 vector a và b là:  [[-64]]\n"
          ]
        }
      ]
    },
    {
      "cell_type": "markdown",
      "source": [
        "bài 7: Tích hữu hướng (cross product) của 2 vector $\\vec{a}$ & $\\vec{b}$ được tính theo công thức tổng quát là:\n",
        "\n",
        "$\\vec{a}$ × $\\vec{b}$ = $||\\vec{a}||  ||\\vec{b}||$ sin(θ)\n",
        "\n",
        "Trong không gian $R^n$, hãy sinh ngẫu nhiên 2 vector $\\vec{a}$ & $\\vec{b}$ và tính tích hữu hướng của 2 vector này.\n",
        "\n",
        "Lưu ý: sử dụng numpy để tính tích vô hướng và số nguyên dương n được nhập vào từ bàn phím.\n",
        "\n",
        "Gợi ý: sử dụng hàm numpy.cross()"
      ],
      "metadata": {
        "id": "3YIvSj200qyd"
      }
    },
    {
      "cell_type": "code",
      "source": [
        "n = int(input(\"Nhập n: \"))\n",
        "\n",
        "a = np.random.randint(low=-10, high=10, size=(1,n))\n",
        "print(\"vector a là: \", a)\n",
        "\n",
        "b = np.random.randint(low=-10, high=10, size=(1,n))\n",
        "print(\"vector b là: \", b)\n",
        "\n",
        "tich_huu_huong = np.cross(a, b)\n",
        "print(\"tích hữu hướng của 2 vector a và b là: \", tich_huu_huong)"
      ],
      "metadata": {
        "colab": {
          "base_uri": "https://localhost:8080/"
        },
        "id": "P33EHNPeueO0",
        "outputId": "edea217e-c168-4fe1-df5f-d69c8216bce5"
      },
      "execution_count": 18,
      "outputs": [
        {
          "output_type": "stream",
          "name": "stdout",
          "text": [
            "Nhập n: 3\n",
            "vector a là:  [[ 8  7 -2]]\n",
            "vector b là:  [[ 6 -1  7]]\n",
            "tích hữu hướng của 2 vector a và b là:  [[ 47 -68 -50]]\n"
          ]
        }
      ]
    },
    {
      "cell_type": "markdown",
      "source": [
        "bài 8: Phép chuyển vị (transpose): trong numpy, một vector a khi thực hiện chuyển vị sẽ được\n",
        "thực hiện thông qua thao tác a.T\n",
        "\n",
        "Hãy viết chương trình sinh ngẫu nhiên một vector $\\vec{a}$ trong không gian $R^n$, số nguyên dương n được nhập vào từ bàn phím. Xuất ra màn hình giá của vector $\\vec{a}$ và chuyển vị của vector $\\vec{a}$ ."
      ],
      "metadata": {
        "id": "hNQenbZ00yxz"
      }
    },
    {
      "cell_type": "code",
      "source": [
        "n = int(input(\"Nhập n: \"))\n",
        "\n",
        "a = np.random.randint(low=-10, high=10, size=(1,n))\n",
        "print(\"vector a là: \", a, sep = '\\n')\n",
        "\n",
        "print(\"Chuyển vị của vector a là: \", a.T, sep = '\\n')"
      ],
      "metadata": {
        "colab": {
          "base_uri": "https://localhost:8080/"
        },
        "id": "R_FA_GVzu2ql",
        "outputId": "c727dcbc-3b74-4595-aa7b-bedb4df0a713"
      },
      "execution_count": 20,
      "outputs": [
        {
          "output_type": "stream",
          "name": "stdout",
          "text": [
            "Nhập n: 5\n",
            "vector a là: \n",
            "[[ 2 -2  0  2  5]]\n",
            "Chuyển vị của vector a là: \n",
            "[[ 2]\n",
            " [-2]\n",
            " [ 0]\n",
            " [ 2]\n",
            " [ 5]]\n"
          ]
        }
      ]
    },
    {
      "cell_type": "markdown",
      "source": [
        "bài 9:\n",
        "Kết hợp cấu trúc list với Numpy: Xét 2 cấu trúc list dưới đây:\n",
        "1. a = [1, 2, 3, 4, 5]\n",
        "2. b = [[1], [2], [3], [4], [5]]\n",
        "Hãy:\n",
        "- Xuất a và b ra màn hình\n",
        "- Tạo vector tương ứng từ a và b, xuất kết quả ra màn hình\n",
        "- Thực hiện phép chuyển vị đối với 2 vector ở trên và xuất kết quả ra màn hình."
      ],
      "metadata": {
        "id": "AsSAV7mm0392"
      }
    },
    {
      "cell_type": "code",
      "source": [
        "a = [1, 2, 3, 4, 5]\n",
        "b = [[1], [2], [3], [4], [5]]\n",
        "\n",
        "aa = np.array(a)\n",
        "bb = np.array(b)\n",
        "\n",
        "print(a)\n",
        "print(b)\n",
        "\n",
        "print(\"vector a là: \", aa)\n",
        "print(\"vector b là: \", bb, sep = '\\n')\n",
        "\n",
        "print(\"Chuyển vị của vector a là: \", aa.T)\n",
        "print(\"Chuyển vị của vector b là: \", bb.T)"
      ],
      "metadata": {
        "colab": {
          "base_uri": "https://localhost:8080/"
        },
        "id": "4XTbRzTUvCZ2",
        "outputId": "021cfd6b-44b3-444b-9d34-5423c3bdd499"
      },
      "execution_count": 21,
      "outputs": [
        {
          "output_type": "stream",
          "name": "stdout",
          "text": [
            "[1, 2, 3, 4, 5]\n",
            "[[1], [2], [3], [4], [5]]\n",
            "vector a là:  [1 2 3 4 5]\n",
            "vector b là: \n",
            "[[1]\n",
            " [2]\n",
            " [3]\n",
            " [4]\n",
            " [5]]\n",
            "Chuyển vị của vector a là:  [1 2 3 4 5]\n",
            "Chuyển vị của vector b là:  [[1 2 3 4 5]]\n"
          ]
        }
      ]
    },
    {
      "cell_type": "markdown",
      "source": [
        "Bài 10: Trong không gian $R^n$, hãy sinh ngẫu nhiên vector $\\vec{a}$ và $\\vec{b}$ , n là số nguyên dương nhập vào từ bàn phím. \n",
        "\n",
        "Hãy:\n",
        "\n",
        "\n",
        "- Thực hiện phép nhân: ma với m là số bất kỳ, xuất kết quả ra màn hình\n",
        "- Thực hiện phép cộng 2 vector: a + b⃗ và xuất kết quả ra màn hình."
      ],
      "metadata": {
        "id": "TSqdsWvz1A6-"
      }
    },
    {
      "cell_type": "code",
      "source": [
        "n = int(input(\"nhập n: \"))\n",
        "\n",
        "a = np.random.randint(low=-10, high=10, size=(1,n))\n",
        "print(a)\n",
        "b = np.random.randint(low=-10, high=10, size=(1,n))\n",
        "print(b)\n",
        "\n",
        "m = int(input(\"nhập m: \"))\n",
        "\n",
        "print(\"a*m: \\n\", a*m)\n",
        "print(\"a+b là: \\n\", a+b)"
      ],
      "metadata": {
        "colab": {
          "base_uri": "https://localhost:8080/"
        },
        "id": "poOsfEVpvIsD",
        "outputId": "448e29d9-fc81-45d6-9534-2feefb7b5f5b"
      },
      "execution_count": 22,
      "outputs": [
        {
          "output_type": "stream",
          "name": "stdout",
          "text": [
            "nhập n: 2\n",
            "[[-10   7]]\n",
            "[[7 5]]\n",
            "nhập m: 6\n",
            "a*m: \n",
            " [[-60  42]]\n",
            "a+b là: \n",
            " [[-3 12]]\n"
          ]
        }
      ]
    }
  ]
}