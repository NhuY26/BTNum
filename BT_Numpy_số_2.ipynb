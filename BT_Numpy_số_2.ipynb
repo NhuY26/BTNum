{
  "nbformat": 4,
  "nbformat_minor": 0,
  "metadata": {
    "colab": {
      "name": "BT Numpy số 2.ipynb",
      "provenance": [],
      "authorship_tag": "ABX9TyMXJmK+CFmvLgwX8aky7bh+",
      "include_colab_link": true
    },
    "kernelspec": {
      "name": "python3",
      "display_name": "Python 3"
    },
    "language_info": {
      "name": "python"
    }
  },
  "cells": [
    {
      "cell_type": "markdown",
      "metadata": {
        "id": "view-in-github",
        "colab_type": "text"
      },
      "source": [
        "<a href=\"https://colab.research.google.com/github/NhuY26/BTNum/blob/main/BT_Numpy_s%E1%BB%91_2.ipynb\" target=\"_parent\"><img src=\"https://colab.research.google.com/assets/colab-badge.svg\" alt=\"Open In Colab\"/></a>"
      ]
    },
    {
      "cell_type": "code",
      "execution_count": 1,
      "metadata": {
        "id": "y2ySDX8bwQzT"
      },
      "outputs": [],
      "source": [
        "import numpy as np"
      ]
    },
    {
      "cell_type": "markdown",
      "source": [
        ""
      ],
      "metadata": {
        "id": "4A1BQyLgwVlM"
      }
    },
    {
      "cell_type": "markdown",
      "source": [
        "Bài 1 - Ma trận: Trong Toán học, ma trận (matrix) là một mảng 2 chiều chứa số hoặc các đối tượng toán học khác. Một cách tổng quát ma trận A có m hàng và n cột chứa các số thực, ký hiệu là A ∈ $R_{m×n}$ hay $A_{m×n}$ hay A = $(a_{i,j})_{m×n}$\n",
        "\n",
        "\\begin{align}\n",
        "        \\vec{OA} = \\begin{pmatrix}\n",
        "        a_{1,1} \\ \\ a_{1,2} \\ \\ ... \\ \\ a_{1,n}\\\\\n",
        "        a_{2,1} \\ \\ a_{2,2} \\ \\ ... \\ \\ a_{2.n}\\\\\n",
        "        \\ \\ \\ \\ ⋮ \\ \\ \\ \\ \\ \\ ⋮ \\ \\ \\ \\ \\ \\ ⋮ \\ \\ \\ \\ \\ \\ ⋮ \\ \\ \\ \\ \\ \\ \\\\\n",
        "        a_{m,1} \\ \\ a_{m,2} \\ \\ ... \\ \\ a{m,n}\n",
        "        \\end{pmatrix}\n",
        "    \\end{align}\n",
        "Sử dụng thư viện NumPy, hãy tạo ra một ma trận A ∈ $R^{7×5}$, giá trị các phần tử của ma trận được sinh ngẫu nhiên. Kết quả xuất ra màn hình."
      ],
      "metadata": {
        "id": "18_6Da1M4DUD"
      }
    },
    {
      "cell_type": "code",
      "source": [
        "A = np.random.random([7,5])\n",
        "print(\"Ma trận A:\\n\",A)"
      ],
      "metadata": {
        "colab": {
          "base_uri": "https://localhost:8080/"
        },
        "id": "aZyQDLUEwYDi",
        "outputId": "daecf0e7-aa36-4736-893f-21d6f494c741"
      },
      "execution_count": 2,
      "outputs": [
        {
          "output_type": "stream",
          "name": "stdout",
          "text": [
            "Ma trận A:\n",
            " [[0.50998325 0.59187324 0.01539616 0.16626057 0.2012503 ]\n",
            " [0.57286897 0.10646775 0.85689017 0.26518873 0.69173257]\n",
            " [0.55690097 0.65870046 0.70876728 0.52207635 0.65922858]\n",
            " [0.56722343 0.93567066 0.96955133 0.82057658 0.78528506]\n",
            " [0.27702857 0.56171535 0.46853269 0.347555   0.39452646]\n",
            " [0.43734425 0.12015494 0.32109494 0.44376297 0.87454886]\n",
            " [0.33117825 0.33203283 0.2985458  0.83000306 0.09146138]]\n"
          ]
        }
      ]
    },
    {
      "cell_type": "markdown",
      "source": [
        "Bài 2 – Ma trận không (zero matrix): Ma trận $A_{m×n}$ được gọi là ma trận không khi $a_{i,j} = 0, ∀i,j.\n",
        "Sử dụng thư viện NumPy, hãy tạo một ma trận 0 - $A_{6×7}$. \n",
        "\n",
        "Gợi ý: sử dụng hàm numpy.zeros((m,n)).\n",
        "Kết quả xuất ra màn hình."
      ],
      "metadata": {
        "id": "wo8C1Ei14MiV"
      }
    },
    {
      "cell_type": "code",
      "source": [
        "np.zeros([6,7])\n",
        "print(\"Ma trận không A:\\n\",A)"
      ],
      "metadata": {
        "colab": {
          "base_uri": "https://localhost:8080/"
        },
        "id": "G0VGyY5dwdns",
        "outputId": "3a3a4f40-8099-461e-95cc-24c81689793f"
      },
      "execution_count": 3,
      "outputs": [
        {
          "output_type": "stream",
          "name": "stdout",
          "text": [
            "Ma trận không A:\n",
            " [[0.50998325 0.59187324 0.01539616 0.16626057 0.2012503 ]\n",
            " [0.57286897 0.10646775 0.85689017 0.26518873 0.69173257]\n",
            " [0.55690097 0.65870046 0.70876728 0.52207635 0.65922858]\n",
            " [0.56722343 0.93567066 0.96955133 0.82057658 0.78528506]\n",
            " [0.27702857 0.56171535 0.46853269 0.347555   0.39452646]\n",
            " [0.43734425 0.12015494 0.32109494 0.44376297 0.87454886]\n",
            " [0.33117825 0.33203283 0.2985458  0.83000306 0.09146138]]\n"
          ]
        }
      ]
    },
    {
      "cell_type": "markdown",
      "source": [
        "Bài 3 – Ma trận vuông: Là ma trận có số hàng và số cột bằng nhau. Sử dụng thư viện NumPy,\n",
        "hãy tạo ra một ma trận A ∈ $R_{7×7}$, giá trị các phần tử của ma trận được sinh ngẫu nhiên. Kết quả xuất ra màn hình."
      ],
      "metadata": {
        "id": "RpT0Wczd4Q87"
      }
    },
    {
      "cell_type": "code",
      "source": [
        "np.random.randint(1,20,[7,7])\n",
        "print(\"Ma trận A:\\n\",A)"
      ],
      "metadata": {
        "colab": {
          "base_uri": "https://localhost:8080/"
        },
        "id": "uQ4jhBidwxD5",
        "outputId": "49ac7e37-2869-41ee-856a-c6a534736bb4"
      },
      "execution_count": 4,
      "outputs": [
        {
          "output_type": "stream",
          "name": "stdout",
          "text": [
            "Ma trận A:\n",
            " [[0.50998325 0.59187324 0.01539616 0.16626057 0.2012503 ]\n",
            " [0.57286897 0.10646775 0.85689017 0.26518873 0.69173257]\n",
            " [0.55690097 0.65870046 0.70876728 0.52207635 0.65922858]\n",
            " [0.56722343 0.93567066 0.96955133 0.82057658 0.78528506]\n",
            " [0.27702857 0.56171535 0.46853269 0.347555   0.39452646]\n",
            " [0.43734425 0.12015494 0.32109494 0.44376297 0.87454886]\n",
            " [0.33117825 0.33203283 0.2985458  0.83000306 0.09146138]]\n"
          ]
        }
      ]
    },
    {
      "cell_type": "markdown",
      "source": [
        "Bài 4 – Ma trận chéo (diagonal matrix): Ma trận vuông có các phần tử trên đường chéo $a_{i,i}$ ≠ 0 trong khi các phần tử còn lại $a_{i,j}$ = 0, ∀i ≠ j.\n",
        "\n",
        "Sử dụng thư viện NumPy, hãy tạo một ma trận chéo $A_{6×6}$ với phần tử nằm trên đường chéo có giá trị là 15. \n",
        "\n",
        "Gợi ý: sử dụng kết hợp hàm numpy.zeros() và numpy.fill_diagonal(). Kết quả xuất ra màn hình."
      ],
      "metadata": {
        "id": "NeP-azjw4UEA"
      }
    },
    {
      "cell_type": "code",
      "source": [
        "A = np.zeros((6,6))\n",
        "np.fill_diagonal(A,15)\n",
        "print(\"Ma trận chéo A:\\n\",A)"
      ],
      "metadata": {
        "colab": {
          "base_uri": "https://localhost:8080/"
        },
        "id": "ehDLaAtJw2WN",
        "outputId": "21811366-965c-44cf-a143-bb6daa000ba5"
      },
      "execution_count": 5,
      "outputs": [
        {
          "output_type": "stream",
          "name": "stdout",
          "text": [
            "Ma trận chéo A:\n",
            " [[15.  0.  0.  0.  0.  0.]\n",
            " [ 0. 15.  0.  0.  0.  0.]\n",
            " [ 0.  0. 15.  0.  0.  0.]\n",
            " [ 0.  0.  0. 15.  0.  0.]\n",
            " [ 0.  0.  0.  0. 15.  0.]\n",
            " [ 0.  0.  0.  0.  0. 15.]]\n"
          ]
        }
      ]
    },
    {
      "cell_type": "markdown",
      "source": [
        "Bài 5 – Ma trận tam giác trên (upper triangular matrix): Ma trận vuông $A_{n×n}$ được gọi là ma\n",
        "trận tam giác trên nếu các phần tử nằm trên đường chéo đều khác 0 và các phần tử nằm dưới đường\n",
        "chéo đều bằng 0.\n",
        "\n",
        "Sử dụng thư viện NumPy, hãy tạo một ma trận tam giác trên $A_{8×8}$. \n",
        "\n",
        "Gợi ý: sử dụng hàm\n",
        "numpy.triu(). \n",
        "\n",
        "Kết quả xuất ra màn hình."
      ],
      "metadata": {
        "id": "1H1oBI_u4XpQ"
      }
    },
    {
      "cell_type": "code",
      "source": [
        "A = np.random.randint(1,10,[8,8])\n",
        "print(\"Ma trận tam giác trên A:\\n\",np.triu(A,k=0))"
      ],
      "metadata": {
        "colab": {
          "base_uri": "https://localhost:8080/"
        },
        "id": "RMyXApBEw7Kx",
        "outputId": "3518f888-0bff-4269-c8d3-462395ef5323"
      },
      "execution_count": 6,
      "outputs": [
        {
          "output_type": "stream",
          "name": "stdout",
          "text": [
            "Ma trận tam giác trên A:\n",
            " [[9 3 6 9 1 7 4 7]\n",
            " [0 8 1 1 7 7 5 9]\n",
            " [0 0 4 7 9 1 2 4]\n",
            " [0 0 0 8 1 8 7 4]\n",
            " [0 0 0 0 5 8 4 9]\n",
            " [0 0 0 0 0 8 4 8]\n",
            " [0 0 0 0 0 0 8 1]\n",
            " [0 0 0 0 0 0 0 7]]\n"
          ]
        }
      ]
    },
    {
      "cell_type": "markdown",
      "source": [
        "Bài 6 – Ma trận tam giác dưới (lower triangular matrix): Tương tự bài 5, bạn hãy xây dựng\n",
        "ma trận tam giác dưới. Kết quả xuất ra màn hình."
      ],
      "metadata": {
        "id": "8asvb3LD4eGD"
      }
    },
    {
      "cell_type": "code",
      "source": [
        "A = np.random.randint(1,10,[8,8])\n",
        "print(\"Ma trận tam giác dưới A:\\n\",np.tril(A,k=0))"
      ],
      "metadata": {
        "colab": {
          "base_uri": "https://localhost:8080/"
        },
        "id": "a7-cNNa9w_wH",
        "outputId": "50d65c74-3ea9-457d-c949-fc980fd1422c"
      },
      "execution_count": 7,
      "outputs": [
        {
          "output_type": "stream",
          "name": "stdout",
          "text": [
            "Ma trận tam giác dưới A:\n",
            " [[2 0 0 0 0 0 0 0]\n",
            " [6 5 0 0 0 0 0 0]\n",
            " [9 7 9 0 0 0 0 0]\n",
            " [8 3 5 4 0 0 0 0]\n",
            " [2 5 1 2 6 0 0 0]\n",
            " [6 6 9 6 2 2 0 0]\n",
            " [1 6 6 4 4 3 4 0]\n",
            " [8 2 1 6 4 8 8 8]]\n"
          ]
        }
      ]
    },
    {
      "cell_type": "markdown",
      "source": [
        "Bài 7 – Ma trận đơn vị (identity matrix): Ma trận đơn vị $I_n$ có số chiều n là một ma trận vuông\n",
        "mà mọi phần tử trên đường chéo chính bằng 1. Sử dụng thư viện NumPy, hãy tạo ra một ma trận\n",
        "$I_9$\n",
        ". Kết quả xuất ra màn hình. Gợi ý: sử dụng hàm numpy.identity()"
      ],
      "metadata": {
        "id": "WXUYCDQw4jXM"
      }
    },
    {
      "cell_type": "code",
      "source": [
        "#cách 1\n",
        "\n",
        "print(\"Ma trận đơn vị I9:\\n\",np.identity(9))\n",
        "\n",
        "#cách 2\n",
        "\n",
        "print(\"Ma trận đơn vị I9:\\n\",np.eye(9))"
      ],
      "metadata": {
        "colab": {
          "base_uri": "https://localhost:8080/"
        },
        "id": "Px7QCuCjxE2G",
        "outputId": "8aecbb42-758e-4830-b63c-ea797eb99b9f"
      },
      "execution_count": 8,
      "outputs": [
        {
          "output_type": "stream",
          "name": "stdout",
          "text": [
            "Ma trận đơn vị I9:\n",
            " [[1. 0. 0. 0. 0. 0. 0. 0. 0.]\n",
            " [0. 1. 0. 0. 0. 0. 0. 0. 0.]\n",
            " [0. 0. 1. 0. 0. 0. 0. 0. 0.]\n",
            " [0. 0. 0. 1. 0. 0. 0. 0. 0.]\n",
            " [0. 0. 0. 0. 1. 0. 0. 0. 0.]\n",
            " [0. 0. 0. 0. 0. 1. 0. 0. 0.]\n",
            " [0. 0. 0. 0. 0. 0. 1. 0. 0.]\n",
            " [0. 0. 0. 0. 0. 0. 0. 1. 0.]\n",
            " [0. 0. 0. 0. 0. 0. 0. 0. 1.]]\n",
            "Ma trận đơn vị I9:\n",
            " [[1. 0. 0. 0. 0. 0. 0. 0. 0.]\n",
            " [0. 1. 0. 0. 0. 0. 0. 0. 0.]\n",
            " [0. 0. 1. 0. 0. 0. 0. 0. 0.]\n",
            " [0. 0. 0. 1. 0. 0. 0. 0. 0.]\n",
            " [0. 0. 0. 0. 1. 0. 0. 0. 0.]\n",
            " [0. 0. 0. 0. 0. 1. 0. 0. 0.]\n",
            " [0. 0. 0. 0. 0. 0. 1. 0. 0.]\n",
            " [0. 0. 0. 0. 0. 0. 0. 1. 0.]\n",
            " [0. 0. 0. 0. 0. 0. 0. 0. 1.]]\n"
          ]
        }
      ]
    },
    {
      "cell_type": "markdown",
      "source": [
        "Bài 8 – Phép toán trên ma trận: sử dụng thư viện NumPy để thực hiện các yêu cầu sau:\n",
        "- Phép cộng ma trận: $A_{m×n} + B_{m×n} = C_{m×n}$. Hãy sinh ngẫu nhiên 2 ma trận có kích thước\n",
        "6x7. Thực hiện phép cộng 2 ma trận trên. Xuất giá trị các ma trận ra màn hình.\n",
        "- Phép nhân vô hướng một số với ma trận: Hãy sinh ngẫu nhiên 1 ma trận có kích thước\n",
        "5x8. Thực hiện nhân vô hướng 1 số được nhập từ bàn phím với ma trận này. Kết quả xuất\n",
        "ra màn hình.\n",
        "- Phép chuyển vị ma trận: Sinh ngẫu nhiên một ma trận có kích thước 3x7. Thực hiện phép\n",
        "chuyển vị đối với ma trận này. Xuất các ma trận này ra màn hình.\n",
        "- Phép nhân 2 ma trận: $A_{m×n} + B_{m×n} = C_{m×n}$. Hãy sinh ngẫu nhiên 2 ma trận $A_{5×7} và B_{7×3}$,\n",
        "tiến hành nhân 2 ma trận này để thu được ma trận $C_{5×3}$. Xuất các ma trận trên ra màn hình.\n",
        "Gợi ý: sử dụng hàm numpy.dot()\n",
        "- Ma trận khả nghịch: ma trận vuông $A_{n×n}$ \n",
        "gọi là khả nghịch (hay không suy biến) nếu tồn\n",
        "tại một ma trận vuông $B_{n×n}$ sao cho A ∙ B = $I_n$ . Khi này, B được gọi là ma trận nghịch\n",
        "đảo của A và ký hiệu là A\n",
        "−1\n",
        ". Cho ma trận $A_{5×7}$, hãy tính ma trận khả nghịch của A. \n",
        "\n",
        "Gợi ý: sử dụng hàm numpy.linalg.inv()"
      ],
      "metadata": {
        "id": "XcFheuHm4nrb"
      }
    },
    {
      "cell_type": "code",
      "source": [
        "#cộng hai ma trận\n",
        "\n",
        "A = np.random.randint(1,10,[6,7])\n",
        "B = np.random.randint(1,10,[6,7])\n",
        "print(\"A+B:\\n\",A+B)\n",
        "\n",
        "#Nhân vô hướng\n",
        "\n",
        "A = np.random.randint(1,5,[5,8])\n",
        "print(A)\n",
        "n = int(input(\"Nhân ma trận với: \"))\n",
        "print(\"Kết quả của phép nhân vô hướng A với\",n,\"là\\n\",A*n)\n",
        "\n",
        "#Chuyển vị\n",
        "\n",
        "A = np.random.randint(1,10,[3,7])\n",
        "print(\"Ma trận ban đầu:\\n\",A)\n",
        "print(\"Chuyển vị:\\n\",A.T)\n",
        "\n",
        "#Nhân hai ma trận\n",
        "\n",
        "A = np.random.randint(1,5,[5,7])\n",
        "print(\"Ma trận A:\\n\", A)\n",
        "B = np.random.randint(1,5,[7,3])\n",
        "print(\"Ma trận B:\\n\", B)\n",
        "print(\"Nhân hai ma trận A và B:\\n\",A.dot(B))\n",
        "\n",
        "#Ngoài ra: A @ B cũng là phép nhân hai ma trận A và B\n",
        "\n",
        "#Ma trận nghịch đảo\n",
        "\n",
        "A = np.random.randint(1,5,[5,5])\n",
        "A_i = np.linalg.pinv(A)\n",
        "print(\"Ma trận ban đầu\\n\",A)\n",
        "print(\"Ma trận nghịch đảo\\n\",A_i)"
      ],
      "metadata": {
        "colab": {
          "base_uri": "https://localhost:8080/"
        },
        "id": "fsLZjazvxLqZ",
        "outputId": "306b4525-e1b7-43e7-9dc3-a2f14a82f2b6"
      },
      "execution_count": 9,
      "outputs": [
        {
          "output_type": "stream",
          "name": "stdout",
          "text": [
            "A+B:\n",
            " [[ 2  8 12 11 11  5 16]\n",
            " [ 8 18  8  7 10 10  5]\n",
            " [12  8 14 14  7 12  3]\n",
            " [ 9 10  6  4 12 16  7]\n",
            " [ 5  6  8 10 12 16  8]\n",
            " [ 5 10 16 13  6  8 16]]\n",
            "[[4 1 3 1 1 3 4 4]\n",
            " [1 2 3 1 4 2 3 3]\n",
            " [2 1 2 1 3 1 4 1]\n",
            " [3 4 3 3 2 1 3 2]\n",
            " [4 1 2 2 2 1 1 3]]\n",
            "Nhân ma trận với: 3\n",
            "Kết quả của phép nhân vô hướng A với 3 là\n",
            " [[12  3  9  3  3  9 12 12]\n",
            " [ 3  6  9  3 12  6  9  9]\n",
            " [ 6  3  6  3  9  3 12  3]\n",
            " [ 9 12  9  9  6  3  9  6]\n",
            " [12  3  6  6  6  3  3  9]]\n",
            "Ma trận ban đầu:\n",
            " [[3 3 3 6 7 9 9]\n",
            " [9 5 5 3 8 2 5]\n",
            " [8 2 1 9 9 8 9]]\n",
            "Chuyển vị:\n",
            " [[3 9 8]\n",
            " [3 5 2]\n",
            " [3 5 1]\n",
            " [6 3 9]\n",
            " [7 8 9]\n",
            " [9 2 8]\n",
            " [9 5 9]]\n",
            "Ma trận A:\n",
            " [[4 2 4 4 2 1 3]\n",
            " [3 4 4 1 1 1 4]\n",
            " [2 2 4 2 3 3 1]\n",
            " [4 1 4 1 4 2 4]\n",
            " [4 3 4 3 2 3 1]]\n",
            "Ma trận B:\n",
            " [[4 3 3]\n",
            " [2 4 3]\n",
            " [2 4 3]\n",
            " [1 4 3]\n",
            " [1 3 3]\n",
            " [1 1 3]\n",
            " [3 1 1]]\n",
            "Nhân hai ma trận A và B:\n",
            " [[44 62 54]\n",
            " [43 53 46]\n",
            " [31 51 49]\n",
            " [45 54 52]\n",
            " [41 62 58]]\n",
            "Ma trận ban đầu\n",
            " [[3 1 1 4 4]\n",
            " [3 3 4 3 3]\n",
            " [1 3 4 2 4]\n",
            " [1 4 3 2 2]\n",
            " [3 2 2 2 3]]\n",
            "Ma trận nghịch đảo\n",
            " [[-0.15789474  0.12631579 -0.24210526 -0.11578947  0.48421053]\n",
            " [-0.05263158 -0.35789474 -0.14736842  0.49473684  0.29473684]\n",
            " [-0.15789474  0.52631579  0.15789474 -0.31578947 -0.31578947]\n",
            " [ 0.36842105  0.30526316 -0.16842105  0.13684211 -0.66315789]\n",
            " [ 0.05263158 -0.44210526  0.34736842 -0.09473684  0.30526316]]\n"
          ]
        }
      ]
    },
    {
      "cell_type": "markdown",
      "source": [
        "Bài 9 – Vector là dạng ma trận đặc biệt: Sử dụng numpy để thực hiện các yêu cầu sau\n",
        "- Vector hàng (row vector) thực chất là ma trận có kích thước 1 × n. Hãy tạo ngẫu nhiên 1\n",
        "vector hàng - x có kích thước 1 × 8. Kết quả xuất ra màn hình.\n",
        "- Vector cột (column vector) thực chất là ma trận có kích thước m × 1. Hãy tạo ngẫu nhiên\n",
        "1 vector cột – x có kích thước 8 × 1. Kết quả xuất ra màn hình."
      ],
      "metadata": {
        "id": "mXKmmlmC4r1S"
      }
    },
    {
      "cell_type": "code",
      "source": [
        "#Vector hàng\n",
        "\n",
        "A = np.random.randint(1,10,[1,8])\n",
        "print(A)\n",
        "A.shape\n",
        "\n",
        "#Vector cột\n",
        "\n",
        "A = np.random.randint(1,10,[8,1])\n",
        "print(A)\n",
        "A.shape"
      ],
      "metadata": {
        "colab": {
          "base_uri": "https://localhost:8080/"
        },
        "id": "NIlyea1TxSbG",
        "outputId": "8608888d-5097-4ecb-bc0b-a9b3df49c633"
      },
      "execution_count": 10,
      "outputs": [
        {
          "output_type": "stream",
          "name": "stdout",
          "text": [
            "[[2 5 9 2 5 4 9 2]]\n",
            "[[9]\n",
            " [5]\n",
            " [8]\n",
            " [9]\n",
            " [5]\n",
            " [8]\n",
            " [9]\n",
            " [1]]\n"
          ]
        },
        {
          "output_type": "execute_result",
          "data": {
            "text/plain": [
              "(8, 1)"
            ]
          },
          "metadata": {},
          "execution_count": 10
        }
      ]
    },
    {
      "cell_type": "code",
      "source": [
        "#bài10\n",
        "import numpy as np\n",
        "A = np.random.randint(1,10,[3,3])\n",
        "y = np.random.randint(1,5)\n",
        "A_i = np.linalg.pinv(A)\n",
        "x = np.dot(A_i, y)\n",
        "print(x)"
      ],
      "metadata": {
        "colab": {
          "base_uri": "https://localhost:8080/"
        },
        "id": "La1fvQeuxi_T",
        "outputId": "0ded4027-eeb2-4b31-c980-ee72fd7cd1e7"
      },
      "execution_count": 13,
      "outputs": [
        {
          "output_type": "stream",
          "name": "stdout",
          "text": [
            "[[ 0.33333333 -2.22222222  1.44444444]\n",
            " [-0.16666667  0.61111111  0.27777778]\n",
            " [ 0.16666667  1.38888889 -1.27777778]]\n"
          ]
        }
      ]
    }
  ]
}